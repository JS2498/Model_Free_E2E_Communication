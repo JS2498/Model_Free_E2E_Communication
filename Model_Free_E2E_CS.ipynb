{
  "cells": [
    {
      "cell_type": "code",
      "execution_count": null,
      "metadata": {
        "id": "KG4Xphq9AqIA"
      },
      "outputs": [],
      "source": [
        "# Avoids scroll-in-the-scroll in the entire Notebook\n",
        "from IPython.display import Javascript\n",
        "def resize_colab_cell():\n",
        "  display(Javascript('google.colab.output.setIframeHeight(0, true, {maxHeight: 5000})'))\n",
        "get_ipython().events.register('pre_run_cell', resize_colab_cell)\n"
      ]
    },
    {
      "cell_type": "markdown",
      "metadata": {
        "id": "tmRiGnOiutZd"
      },
      "source": [
        "## Import the required libraries"
      ]
    },
    {
      "cell_type": "code",
      "execution_count": null,
      "metadata": {
        "colab": {
          "base_uri": "https://localhost:8080/",
          "height": 17
        },
        "id": "Rf35BLfT9POM",
        "outputId": "5355cb9c-d4e9-4dd0-91cb-6da4742cbfc2"
      },
      "outputs": [
        {
          "output_type": "display_data",
          "data": {
            "application/javascript": [
              "google.colab.output.setIframeHeight(0, true, {maxHeight: 5000})"
            ],
            "text/plain": [
              "<IPython.core.display.Javascript object>"
            ]
          },
          "metadata": {}
        }
      ],
      "source": [
        "\"\"\"\n",
        "Implementation  of \"Model-Free Training of E2E Communication Systems\"\n",
        "\n",
        "We try to model the entire Tx-Rx system as a autoencoder which does not require\n",
        "the channel model to predict the transmitted symbol at the receiver.\n",
        "\n",
        "Transmitter  : Encoder\n",
        "Receiver : Decoder\n",
        "\n",
        "Brief overview of the implementation\n",
        "\n",
        "Model : Autoencoder\n",
        "I/p : One-hot encoded vector 'msg'\n",
        "Encoder o/p : Symbol 'x' obtained from the modulation scheme corresponding to 'msg'\n",
        "Decoder i/p : Noisy version of the 'x'\n",
        "Decoder o/p : Predicted Output, m_estimate preceded by a soft-max layer\n",
        "\n",
        "Encoder : 1st layer: o/p size is same as the size of 'msg', activation : ELU\n",
        "          2nd layer: o/p size is of the size '2*N' where N is the no. of different\n",
        "                     symbols used in the modulation scheme, activation : ReLU\n",
        "          3rd layer: Batch Normalization (To satisty the power characteristics)\n",
        "          \n",
        "\n",
        "Decoder : \n",
        "                     \n",
        "                     \n",
        "\n",
        "\"\"\"\n",
        "\n",
        "#import the required libraries\n",
        "\n",
        "\n",
        "import numpy as np\n",
        "import tensorflow as tf\n",
        "from tensorflow import keras\n",
        "import matplotlib.pyplot as plt\n",
        "# from tensorflow.keras.layers import *\n",
        "import keras.backend as K\n",
        "from sklearn import preprocessing\n",
        "from sklearn.metrics import mean_squared_error"
      ]
    },
    {
      "cell_type": "markdown",
      "metadata": {
        "id": "nNbbZ8C-uzcq"
      },
      "source": [
        "## Define the required helper functions"
      ]
    },
    {
      "cell_type": "code",
      "execution_count": null,
      "metadata": {
        "colab": {
          "base_uri": "https://localhost:8080/",
          "height": 17
        },
        "id": "LniP0ILj9hR9",
        "outputId": "18bc8271-16d3-41f7-ee22-550350052d6a"
      },
      "outputs": [
        {
          "output_type": "display_data",
          "data": {
            "application/javascript": [
              "google.colab.output.setIframeHeight(0, true, {maxHeight: 5000})"
            ],
            "text/plain": [
              "<IPython.core.display.Javascript object>"
            ]
          },
          "metadata": {}
        }
      ],
      "source": [
        "#------------------------------AWGN Channel------------------------------------\n",
        "def AWGN(X, noise_std):\n",
        "    #Standard deviation is multipleid by (1/sqrt(2)) so that the standard deviation of the complex noise is 1. \n",
        "    noise = K.random_normal(K.shape(X),mean = 0, stddev= (noise_std*0.707))\n",
        "    \n",
        "    #separate the real and imaginary parts of the noise and the symbol\n",
        "    noise_r = noise[:,:,0] \n",
        "    noise_i = noise[:,:,1]\n",
        "\n",
        "    X_r = X[:,:,0]\n",
        "    X_i = X[:,:,1]\n",
        "\n",
        "    #add the real and imaginary parts of noise and the symbols \n",
        "    real = tf.keras.layers.Add()([X_r, noise_r])\n",
        "    imag = tf.keras.layers.Add()([X_i, noise_i])\n",
        "    \n",
        "    #stack the real and imaginary parts along the last axis and return the tensor\n",
        "    Y = K.stack([real, imag], axis=-1)\n",
        "    return Y\n",
        "\n",
        "#------------------------------Perturbation------------------------------------\n",
        "\n",
        "def perturbation(X):\n",
        "    sigma = 0.15*0.707 #std deviation used in the paper\n",
        "\n",
        "    #Standard deviation is multipleid by (1/sqrt(2)) so that the standard deviation of the complex perturbation is 1. \n",
        "    noise = K.random_normal(K.shape(X),mean = 0, stddev= (sigma))\n",
        "    noise_r = noise[:,:,0]\n",
        "    noise_i = noise[:,:,1]\n",
        "\n",
        "    X_r = np.sqrt(1-sigma**2) * X[:,:,0] #refer to eq. 11 in the paper\n",
        "    X_i = np.sqrt(1-sigma**2) * X[:,:,1]\n",
        "    real = tf.keras.layers.Add()([X_r, noise_r])\n",
        "    imag = tf.keras.layers.Add()([X_i, noise_i])\n",
        "    \n",
        "    Y = K.stack([real, imag], axis=2)\n",
        "    return Y\n",
        "\n",
        "#--------------Rayleigh Fading Channel (Rayleigh Block Fading)-----------------\n",
        "def RBF(X):\n",
        "   \n",
        "    #Channel Fading coefficient is multipleid by (1/sqrt(2)) so that the standard deviation of the complex channel fading coefficient is 1. \n",
        "    h = 0.707 * K.random_normal(K.shape(X),mean = 0, stddev=1)\n",
        "    noise = K.random_normal(K.shape(X),mean = 0, stddev = noise_std*0.707)\n",
        "    noise_r = noise[:,:,0]\n",
        "    noise_i = noise[:,:,1]\n",
        "    h_r = h[:,:,0]\n",
        "    h_i = h[:,:,1]\n",
        "\n",
        "    X_r = h_r * X[:,:,0] #refer to eq. 11 in the paper\n",
        "    X_i = h_i * X[:,:,1]\n",
        "\n",
        "    real = tf.keras.layers.Add()([X_r, noise_r])\n",
        "    imag = tf.keras.layers.Add()([X_i, noise_i])\n",
        "    \n",
        "    Y = K.stack([real, imag], axis=2)\n",
        "    return Y\n",
        "\n",
        "def generate_one_hot_vector(M, data_size,get_label= False):\n",
        "    \"\"\"\n",
        "    Generate one hot vectors for training and testing\n",
        "    M : No. of bits in a message\n",
        "    data_size : no. of messages to be generated\n",
        "    \"\"\"\n",
        "    M_Oh = 2**M  #dimension of the one-hot message\n",
        "\n",
        "    #generate random intergers between 0 to M-1 \n",
        "    eye_matrix = np.eye(M_Oh) #identity matrix of size 2**M\n",
        "    msgs = np.tile(eye_matrix, (int(data_size/M_Oh),1))  #repeat the generated one-hot vectors\n",
        "    np.random.shuffle(msgs) #shuffle the messages along the 1st dimension\n",
        "    \n",
        "    return msgs \n",
        "\n",
        "def BER(y_true, y_pred):\n",
        "    #Finds the bit error rate\n",
        "    return K.mean(K.not_equal(y_true, K.round(y_pred)), axis=-1)  \n",
        "\n",
        "def B_Ber(input_msg, msg):\n",
        "    '''Calculate the Block Error Rate'''\n",
        "    pred_error = tf.not_equal(tf.argmax(msg, 1), tf.argmax(input_msg, 1))\n",
        "    # print(pred_error)\n",
        "    bber = tf.reduce_mean(tf.cast(pred_error, tf.float32))\n",
        "    return bber\n",
        "\n",
        "def AvgEngy_Constraint(X):\n",
        "  X_pseudonorm =  tf.sqrt(tf.reduce_mean( tf.square(X), axis=[1,2],keepdims=True)*2)\n",
        "\n",
        "  X_normalized = X/X_pseudonorm\n",
        "  # print(tf.reduce_sum(tf.square(X_normalized), axis = [1,2])) #for cross-checking\n",
        "  return X_normalized\n",
        "    "
      ]
    },
    {
      "cell_type": "code",
      "execution_count": null,
      "metadata": {
        "colab": {
          "base_uri": "https://localhost:8080/",
          "height": 17
        },
        "id": "dGauy5VxpcUp",
        "outputId": "61d37a03-34bf-4c95-b3c0-2ea373c2477e"
      },
      "outputs": [
        {
          "output_type": "display_data",
          "data": {
            "application/javascript": [
              "google.colab.output.setIframeHeight(0, true, {maxHeight: 5000})"
            ],
            "text/plain": [
              "<IPython.core.display.Javascript object>"
            ]
          },
          "metadata": {}
        }
      ],
      "source": [
        "# Custom callback to stor the losses for each batch\n",
        "\n",
        "class LossHistory(tf.keras.callbacks.Callback):\n",
        "    def on_train_begin(self, logs={}):\n",
        "        self.losses = []\n",
        "        # self.val_losses = []\n",
        "        self.B_Ber = []\n",
        "\n",
        "    def on_batch_end(self, batch, logs={}):\n",
        "        self.losses.append(logs.get('loss'))\n",
        "        # self.val_losses.append(logs.get('val_loss'))\n",
        "        self.B_Ber.append(logs.get('B_Ber'))"
      ]
    },
    {
      "cell_type": "markdown",
      "metadata": {
        "id": "RIE5JD7Osq5D"
      },
      "source": [
        "## AWGN Channel"
      ]
    },
    {
      "cell_type": "markdown",
      "metadata": {
        "id": "LgA_NiA4CCpj"
      },
      "source": [
        "#### Model Aware Training\n",
        "\n",
        "*   In model aware training the weigths of the transmitter and receiver are updated using the backpropagation directly\n",
        "\n",
        "\n"
      ]
    },
    {
      "cell_type": "code",
      "execution_count": null,
      "metadata": {
        "colab": {
          "base_uri": "https://localhost:8080/",
          "height": 1475
        },
        "id": "EvlysMU49cUa",
        "outputId": "0d69b403-93b3-4514-ed7f-6e411b3ca2eb"
      },
      "outputs": [
        {
          "data": {
            "application/javascript": [
              "google.colab.output.setIframeHeight(0, true, {maxHeight: 5000})"
            ],
            "text/plain": [
              "<IPython.core.display.Javascript object>"
            ]
          },
          "metadata": {},
          "output_type": "display_data"
        },
        {
          "name": "stdout",
          "output_type": "stream",
          "text": [
            "Model: \"model\"\n",
            "_________________________________________________________________\n",
            " Layer (type)                Output Shape              Param #   \n",
            "=================================================================\n",
            " input_1 (InputLayer)        [(None, 256)]             0         \n",
            "                                                                 \n",
            " Tx1 (Dense)                 (None, 256)               65792     \n",
            "                                                                 \n",
            " Tx2 (Dense)                 (None, 8)                 2056      \n",
            "                                                                 \n",
            " reshape (Reshape)           (None, 4, 2)              0         \n",
            "                                                                 \n",
            " lambda (Lambda)             (None, 4, 2)              0         \n",
            "                                                                 \n",
            "=================================================================\n",
            "Total params: 67,848\n",
            "Trainable params: 67,848\n",
            "Non-trainable params: 0\n",
            "_________________________________________________________________\n",
            "Model: \"model_1\"\n",
            "_________________________________________________________________\n",
            " Layer (type)                Output Shape              Param #   \n",
            "=================================================================\n",
            " input_2 (InputLayer)        [(None, 4, 2)]            0         \n",
            "                                                                 \n",
            " flatten (Flatten)           (None, 8)                 0         \n",
            "                                                                 \n",
            " Rx1 (Dense)                 (None, 256)               2304      \n",
            "                                                                 \n",
            " Rx2 (Dense)                 (None, 256)               65792     \n",
            "                                                                 \n",
            "=================================================================\n",
            "Total params: 68,096\n",
            "Trainable params: 68,096\n",
            "Non-trainable params: 0\n",
            "_________________________________________________________________\n",
            "Model: \"model_2\"\n",
            "_________________________________________________________________\n",
            " Layer (type)                Output Shape              Param #   \n",
            "=================================================================\n",
            " input_3 (InputLayer)        [(None, 256)]             0         \n",
            "                                                                 \n",
            " model (Functional)          (None, 4, 2)              67848     \n",
            "                                                                 \n",
            " lambda_1 (Lambda)           (None, 4, 2)              0         \n",
            "                                                                 \n",
            " model_1 (Functional)        (None, 256)               68096     \n",
            "                                                                 \n",
            "=================================================================\n",
            "Total params: 135,944\n",
            "Trainable params: 135,944\n",
            "Non-trainable params: 0\n",
            "_________________________________________________________________\n",
            "Epoch 1/15\n",
            "125/125 [==============================] - 13s 100ms/step - loss: 0.4633 - B_Ber: 0.0531\n",
            "Epoch 2/15\n",
            "125/125 [==============================] - 12s 100ms/step - loss: 0.0015 - B_Ber: 3.1250e-06\n",
            "Epoch 3/15\n",
            "125/125 [==============================] - 12s 100ms/step - loss: 9.5325e-04 - B_Ber: 6.2500e-06\n",
            "Epoch 4/15\n",
            "125/125 [==============================] - 12s 98ms/step - loss: 6.5527e-04 - B_Ber: 3.1250e-06\n",
            "Epoch 5/15\n",
            "125/125 [==============================] - 12s 98ms/step - loss: 4.6715e-04 - B_Ber: 0.0000e+00\n",
            "Epoch 6/15\n",
            "125/125 [==============================] - 12s 99ms/step - loss: 3.8143e-04 - B_Ber: 1.5625e-06\n",
            "Epoch 7/15\n",
            "125/125 [==============================] - 12s 99ms/step - loss: 3.0357e-04 - B_Ber: 0.0000e+00\n",
            "Epoch 8/15\n",
            "125/125 [==============================] - 12s 99ms/step - loss: 2.4346e-04 - B_Ber: 0.0000e+00\n",
            "Epoch 9/15\n",
            "125/125 [==============================] - 12s 99ms/step - loss: 2.1804e-04 - B_Ber: 1.5625e-06\n",
            "Epoch 10/15\n",
            "125/125 [==============================] - 12s 98ms/step - loss: 2.9321e-04 - B_Ber: 7.8125e-06\n",
            "Epoch 11/15\n",
            "125/125 [==============================] - 12s 98ms/step - loss: 5.0415e-04 - B_Ber: 2.6563e-05\n",
            "Epoch 12/15\n",
            "125/125 [==============================] - 12s 99ms/step - loss: 4.8320e-04 - B_Ber: 3.1250e-05\n",
            "Epoch 13/15\n",
            "125/125 [==============================] - 12s 99ms/step - loss: 3.7662e-04 - B_Ber: 1.7188e-05\n",
            "Epoch 14/15\n",
            "125/125 [==============================] - 12s 99ms/step - loss: 3.1309e-04 - B_Ber: 2.5000e-05\n",
            "Epoch 15/15\n",
            "125/125 [==============================] - 12s 99ms/step - loss: 4.6220e-04 - B_Ber: 4.3750e-05\n"
          ]
        },
        {
          "data": {
            "text/plain": [
              "<keras.callbacks.History at 0x7fc49adea810>"
            ]
          },
          "execution_count": 5,
          "metadata": {},
          "output_type": "execute_result"
        }
      ],
      "source": [
        "%matplotlib inline\n",
        "#----------------Parameters for the autoencoder-------------------------------------\n",
        "M = 8  #no. of bits in a message\n",
        "N = 4 #no. of symbols corresponding to the modulation scheme\n",
        "\n",
        "SNRdb_train = 10 #SNR in dB for which the model is trained \n",
        "SNRWt_train = 10**(SNRdb_train/10) #SNR in watt\n",
        "noise_std = np.sqrt(1/(2*SNRWt_train))  #std deviation of noise signal\n",
        "\n",
        "b_size = 20*(2**M) #batch size\n",
        "n_epoch = 15 #number of epochs\n",
        "lr = 0.01 #learning rate\n",
        "train_size = 2500*(2**M) #no. of training examples\n",
        "test_size = int(train_size*0.1) #no. of test examples\n",
        "\n",
        "\n",
        "#---------------------------Encoder---------------------------------------\n",
        "m_ip = keras.Input(shape =(2**M,))  #input to the autoencoder\n",
        "\n",
        "#two FC layers with 'elu' and 'relu' as the activation functions respectively.\n",
        "m = tf.keras.layers.Dense(2**M,activation = 'elu', name = 'Tx1')(m_ip)\n",
        "m= tf.keras.layers.Dense(2*N,activation = None, name = 'Tx2')(m)\n",
        "\n",
        "#reshape X_hat such that it represents complex symbol\n",
        "X_reshape = tf.keras.layers.Reshape((-1,2))(m) #Tx symbol\n",
        "\n",
        "#we need to have a custom layer for normalization. Hence we use Lambda layer\n",
        "#to define our own function of the custom layer.\n",
        "# X = tf.keras.layers.Lambda(lambda x: K.l2_normalize(x,axis=-1))(X_reshape)  #using this is giving very low accuracy\n",
        "X = tf.keras.layers.Lambda(lambda x: x/tf.sqrt(tf.reduce_mean(tf.square(x))*2)) (X_reshape)  #is this correct\n",
        "# X = tf.keras.layers.Lambda(lambda x : AvgEngy_Constraint(x))(X_reshape)  # This doen't give the correct constellation diagram\n",
        "\n",
        "encoder_NoAL = keras.Model(m_ip,X)\n",
        "encoder_NoAL.summary()\n",
        " \n",
        "#--------------------------AWGN Channel---------------------------------------------\n",
        "\n",
        "#add the noise to the transmitted symbol\n",
        "# Y = tf.keras.layers.Lambda(lambda x: RBF(x))(X)\n",
        "\n",
        "#-----------------------------------Decoder------------------------------------------\n",
        "\n",
        "X_enc = keras.Input(shape=(N,2,))\n",
        "Y = tf.keras.layers.Flatten()(X_enc)  #flatten the received input \n",
        "\n",
        "#two FC layes at receiver with the last layer having 'softmax' as the activation\n",
        "Y = tf.keras.layers.Dense(2**M, activation= 'relu',name = 'Rx1')(Y)\n",
        "deco_op = tf.keras.layers.Dense(2**M, activation= 'softmax', name = 'Rx2')(Y)\n",
        "\n",
        "decoder_NoAL = keras.Model(X_enc, deco_op)\n",
        "decoder_NoAL.summary()\n",
        "\n",
        "#------------------------Autoencoder ------------------------------------\n",
        "\n",
        "#create the autoencoder, encoder and decoder model for training and testing\n",
        "AE_ip = keras.Input(shape =(2**M,))  #input to the autoencoder\n",
        "encoded_msg = encoder_NoAL(AE_ip)\n",
        "rx_enmsg = tf.keras.layers.Lambda(lambda x: AWGN(x, noise_std))(encoded_msg) #received encoded message\n",
        "decoded_msg = decoder_NoAL(rx_enmsg)\n",
        "\n",
        "AE_NoAL = keras.Model(AE_ip,decoded_msg)\n",
        "AE_NoAL.summary()\n",
        "loss_fn = keras.losses.CategoricalCrossentropy()  #Cross entropy loss as specified in the paper\n",
        "AE_NoAL.compile(optimizer=keras.optimizers.Adam(learning_rate=lr), loss = loss_fn, metrics = [B_Ber])\n",
        "\n",
        "#------------------Genertate the dataset for training----------------------------------------\n",
        "train_messages = generate_one_hot_vector(M, train_size)\n",
        "train_data = tf.data.Dataset.from_tensor_slices((train_messages,train_messages))\n",
        "train_data = train_data.shuffle(buffer_size = 1024).batch(b_size)\n",
        "\n",
        "#train the autoencoder model\n",
        "history = LossHistory()\n",
        "AE_NoAL.fit(train_messages,train_messages,batch_size=b_size,epochs = n_epoch, verbose = 1, callbacks = [history])\n",
        "\n",
        "# optimizer = tf.keras.optimizers.Adam(learning_rate=0.001)\n",
        "# for i in range(n_epoch):\n",
        "#     for (x_batch,y_batch) in train_data:\n",
        "#         with tf.GradientTape() as tape:\n",
        "#             prediction = AE(x_batch, training = True)\n",
        "#             loss_value = tf.keras.losses.MSE(y_batch,prediction)\n",
        "#         grads = tape.gradient(loss_value, AE.trainable_variables)\n",
        "#         optimizer.apply_gradients(zip(grads, AE.trainable_weights ))\n",
        "  \n",
        "# test_messages = generate_one_hot_vector(M, test_size)\n",
        "# X_test = encoder.predict(test_messages)\n",
        "# m_hat = AE.predict(test_messages)\n",
        "# m_hat = m_hat.argmax(axis=1)\n",
        "# m_oh = tf.one_hot(m_hat,depth = 2**M)\n",
        "# m_oh = m_oh.numpy()\n",
        "# m = test_messages.argmax(axis=1)"
      ]
    },
    {
      "cell_type": "markdown",
      "metadata": {
        "id": "6hicYATz4gjr"
      },
      "source": [
        "#### Plot BLER v/s Iterations"
      ]
    },
    {
      "cell_type": "code",
      "execution_count": null,
      "metadata": {
        "colab": {
          "base_uri": "https://localhost:8080/",
          "height": 350
        },
        "id": "x_m4L8B0p0JF",
        "outputId": "bcc0809a-1408-4ad2-c9a2-de64c4487ee1"
      },
      "outputs": [
        {
          "data": {
            "application/javascript": [
              "google.colab.output.setIframeHeight(0, true, {maxHeight: 5000})"
            ],
            "text/plain": [
              "<IPython.core.display.Javascript object>"
            ]
          },
          "metadata": {},
          "output_type": "display_data"
        },
        {
          "data": {
            "image/png": "[encoded data removed]",
            "text/plain": [
              "<Figure size 360x360 with 1 Axes>"
            ]
          },
          "metadata": {},
          "output_type": "display_data"
        }
      ],
      "source": [
        "#plot the BLER v/s Iterations\n",
        "fig = plt.figure(figsize=(5, 5))\n",
        "plt.plot(history.B_Ber, 'r-', label ='No Alternate Learning')\n",
        "plt.gca().set_ylim(0, 1)\n",
        "plt.gca().set_xlim(0, 150)\n",
        "# plt.yscale('log')\n",
        "plt.xlabel('Iterations')\n",
        "plt.ylabel('BLER')\n",
        "plt.title('Only AWGN Channel')\n",
        "plt.grid(True, which=\"both\")\n",
        "plt.legend()\n",
        "plt.show()\n"
      ]
    },
    {
      "cell_type": "markdown",
      "metadata": {
        "id": "vtetZQtC9CFi"
      },
      "source": [
        "#### Observation: (**Need to verfiy this!**)\n",
        "* There is a sudden decrease in the loss after the 1st epoch.\n",
        "* This might be because the losses might be averaged over all the previous batches of the same epoch. Hence losses at the end of the epoch will be like averaged loss over all the previous batches. \n",
        "* However at the begining of the next epoch the loss of the 1st batch will be very less."
      ]
    },
    {
      "cell_type": "markdown",
      "metadata": {
        "id": "EZLsIxjExV-Z"
      },
      "source": [
        "### Testing the model for different SNR's"
      ]
    },
    {
      "cell_type": "code",
      "execution_count": null,
      "metadata": {
        "colab": {
          "base_uri": "https://localhost:8080/",
          "height": 381
        },
        "id": "xDHqedUHxTjH",
        "outputId": "5a4c08c2-eb18-4ecd-d7cd-aff2f86b4fb5"
      },
      "outputs": [
        {
          "data": {
            "application/javascript": [
              "google.colab.output.setIframeHeight(0, true, {maxHeight: 5000})"
            ],
            "text/plain": [
              "<IPython.core.display.Javascript object>"
            ]
          },
          "metadata": {},
          "output_type": "display_data"
        },
        {
          "name": "stdout",
          "output_type": "stream",
          "text": [
            "The variation of BLER with respect to SNR\n",
            " SNR : -2.20, BLER : 0.687489\n",
            " SNR : -1.41, BLER : 0.621825\n",
            " SNR : -0.62, BLER : 0.547011\n",
            " SNR : 0.17, BLER : 0.466429\n",
            " SNR : 0.96, BLER : 0.381329\n",
            " SNR : 1.75, BLER : 0.296674\n",
            " SNR : 2.54, BLER : 0.217971\n",
            " SNR : 3.33, BLER : 0.149292\n",
            " SNR : 4.12, BLER : 0.094668\n",
            " SNR : 4.91, BLER : 0.054776\n",
            " SNR : 5.69, BLER : 0.028461\n",
            " SNR : 6.48, BLER : 0.013163\n",
            " SNR : 7.27, BLER : 0.005587\n",
            " SNR : 8.06, BLER : 0.001987\n",
            " SNR : 8.85, BLER : 0.000614\n",
            " SNR : 9.64, BLER : 0.000175\n",
            " SNR : 10.43, BLER : 0.000038\n",
            " SNR : 11.22, BLER : 0.000009\n",
            " SNR : 12.01, BLER : 0.000003\n",
            " SNR : 12.80, BLER : 0.000000\n"
          ]
        }
      ],
      "source": [
        "test_size = 1e6\n",
        "#--------------------Plot the BLER v/s SNR plot--------------------------------\n",
        "SNR_range = list(np.linspace(-2.2,12.8,20))\n",
        "# BER = [None] * len(SNR_range)\n",
        "BLER = [None] * len(SNR_range)\n",
        "\n",
        "print(\"The variation of BLER with respect to SNR:\")\n",
        "for n in range(0, len(SNR_range)):\n",
        "    SNR_Wt =10 ** (SNR_range[n]/10)\n",
        "    noise_std = np.sqrt(1/(2*SNR_Wt))  #std deviation of noise signal\n",
        "    \n",
        "    test_messages = generate_one_hot_vector(M, test_size)  #generate the test dataset\n",
        "    no_errors = 0\n",
        "    X_hat = encoder_NoAL.predict(test_messages)  #obtain the encoded signal\n",
        "    Y = AWGN(X_hat, noise_std)   #transmit the encoded signal through the channel\n",
        "    msg_hat = decoder_NoAL.predict(Y)  #decode the received signal\n",
        "    \n",
        "    # msg_hat = AE.predict(test_messages) #this doesn't work (may be because for different SNR's AWGN noise is not changed) \n",
        "    msg_hat = msg_hat.argmax(axis = -1)\n",
        "    \n",
        "    msg_true = test_messages.argmax(axis = -1)\n",
        "    no_errors = (msg_hat != msg_true)\n",
        "    no_errors = np.sum(no_errors)\n",
        "    \n",
        "    # m_hat_oh = tf.one_hot(m_hat_oh,depth = 2**M)\n",
        "    # m_hat_oh = m_hat_oh.numpy()\n",
        "    # no_errors = (m_hat_oh != test_messages)\n",
        "    # # print(no_errors[1:3,:])\n",
        "    # no_errors = np.sum(no_errors,axis=1)\n",
        "    # no_errors[no_errors>0] = 1\n",
        "    # # print(np.max(no_errors), 'max')\n",
        "    # no_errors = no_errors.astype(int).sum() #check this step tomorrow\n",
        "    # # print(no_errors)\n",
        "    BLER[n] = no_errors/test_size\n",
        "    print(\" SNR : {:.2f}, BLER : {:.6f}\".format(SNR_range[n],BLER[n]))\n",
        "    # print('SNR:', SNR_range[n], 'BLER', BLER[n])\n"
      ]
    },
    {
      "cell_type": "markdown",
      "metadata": {
        "id": "0oorlY51-Hpz"
      },
      "source": [
        "#### Plot the variation of BLER v/s SNR"
      ]
    },
    {
      "cell_type": "code",
      "execution_count": null,
      "metadata": {
        "colab": {
          "base_uri": "https://localhost:8080/",
          "height": 350
        },
        "id": "bi9vPu-YC9fO",
        "outputId": "7b5ae461-e2d1-4b12-eb57-379448c3fa6a"
      },
      "outputs": [
        {
          "data": {
            "application/javascript": [
              "google.colab.output.setIframeHeight(0, true, {maxHeight: 5000})"
            ],
            "text/plain": [
              "<IPython.core.display.Javascript object>"
            ]
          },
          "metadata": {},
          "output_type": "display_data"
        },
        {
          "data": {
            "image/png": "[encoded data removed]",
            "text/plain": [
              "<Figure size 360x360 with 1 Axes>"
            ]
          },
          "metadata": {},
          "output_type": "display_data"
        }
      ],
      "source": [
        "#plot the BLER v/s SNR\n",
        "fig = plt.figure(figsize=(5, 5))\n",
        "plt.semilogy(SNR_range, BLER, 'ro-', label ='No Alternate Learning')\n",
        "plt.gca().set_ylim(1e-7, 1)\n",
        "plt.gca().set_xlim(-3, 14)\n",
        "# plt.yscale('log')\n",
        "plt.xlabel('SNR(dB)')\n",
        "plt.ylabel('BLER')\n",
        "plt.title('Only AWGN Channel')\n",
        "plt.grid(True, which=\"both\")\n",
        "plt.legend()\n",
        "plt.show()\n",
        "\n",
        "BLER_NoAL = BLER  #store the BLER for different SNR's (useful for the future plots!)"
      ]
    },
    {
      "cell_type": "code",
      "execution_count": null,
      "metadata": {
        "colab": {
          "base_uri": "https://localhost:8080/",
          "height": 312
        },
        "id": "Uckfl_yAniYO",
        "outputId": "2465a85a-6381-466a-a4eb-e184f9340fdf"
      },
      "outputs": [
        {
          "data": {
            "application/javascript": [
              "google.colab.output.setIframeHeight(0, true, {maxHeight: 5000})"
            ],
            "text/plain": [
              "<IPython.core.display.Javascript object>"
            ]
          },
          "metadata": {},
          "output_type": "display_data"
        },
        {
          "name": "stdout",
          "output_type": "stream",
          "text": [
            "[[1. 0. 0. 0. 0. 0. 0. 0. 0. 0. 0. 0. 0. 0. 0. 0.]\n",
            " [0. 1. 0. 0. 0. 0. 0. 0. 0. 0. 0. 0. 0. 0. 0. 0.]\n",
            " [0. 0. 1. 0. 0. 0. 0. 0. 0. 0. 0. 0. 0. 0. 0. 0.]\n",
            " [0. 0. 0. 1. 0. 0. 0. 0. 0. 0. 0. 0. 0. 0. 0. 0.]\n",
            " [0. 0. 0. 0. 1. 0. 0. 0. 0. 0. 0. 0. 0. 0. 0. 0.]\n",
            " [0. 0. 0. 0. 0. 1. 0. 0. 0. 0. 0. 0. 0. 0. 0. 0.]\n",
            " [0. 0. 0. 0. 0. 0. 1. 0. 0. 0. 0. 0. 0. 0. 0. 0.]\n",
            " [0. 0. 0. 0. 0. 0. 0. 1. 0. 0. 0. 0. 0. 0. 0. 0.]\n",
            " [0. 0. 0. 0. 0. 0. 0. 0. 1. 0. 0. 0. 0. 0. 0. 0.]\n",
            " [0. 0. 0. 0. 0. 0. 0. 0. 0. 1. 0. 0. 0. 0. 0. 0.]\n",
            " [0. 0. 0. 0. 0. 0. 0. 0. 0. 0. 1. 0. 0. 0. 0. 0.]\n",
            " [0. 0. 0. 0. 0. 0. 0. 0. 0. 0. 0. 1. 0. 0. 0. 0.]\n",
            " [0. 0. 0. 0. 0. 0. 0. 0. 0. 0. 0. 0. 1. 0. 0. 0.]\n",
            " [0. 0. 0. 0. 0. 0. 0. 0. 0. 0. 0. 0. 0. 1. 0. 0.]\n",
            " [0. 0. 0. 0. 0. 0. 0. 0. 0. 0. 0. 0. 0. 0. 1. 0.]\n",
            " [0. 0. 0. 0. 0. 0. 0. 0. 0. 0. 0. 0. 0. 0. 0. 1.]]\n",
            "[ 0  1  2  3  4  5  6  7  8  9 10 11 12 13 14 15]\n"
          ]
        }
      ],
      "source": [
        "# train_messages.shape\n",
        "X_train = np.eye(2**M)\n",
        "# print(X_train)\n",
        "\n",
        "X_hat = encoder_NoAL.predict(X_train)  #obtain the encoded signal\n",
        "Y = AWGN(X_hat, noise_std)   #transmit the encoded signal through the channel\n",
        "msg_hat = decoder_NoAL.predict(Y)  #decode the received signal\n",
        "\n",
        "# msg_hat = AE.predict(test_messages) #this doesn't work (may be because for different SNR's AWGN noise is not changed) \n",
        "msg_hat = msg_hat.argmax(axis = -1)\n",
        "\n",
        "print(msg_hat)\n",
        "    "
      ]
    },
    {
      "cell_type": "markdown",
      "metadata": {
        "id": "ar9GYxEP4rX8"
      },
      "source": [
        "### Generate the constellation points for each input one-hot vector\n",
        "###### Observations:\n",
        "* When M = 2 (No. of bits to be encoded) and N = 1 (only one complex symbol as output) we get the rotated QPSK constellation diagram.\n",
        "* When M = 4, N = 1 and normalization is done according to energy constraint, we get the rotated 16 PSK.\n",
        "* When M = 4, N = 1 and normalization is done according to the average-power constraint (i.e., we don't require the norm of the symbols corresponding to each message to obey the power constraint but it's fine if it obeys in expectation (or average). In this case we get the constellation diagram almost similar to concentric circles (but not exactly)."
      ]
    },
    {
      "cell_type": "code",
      "execution_count": null,
      "metadata": {
        "colab": {
          "base_uri": "https://localhost:8080/",
          "height": 404
        },
        "id": "IXM-7Mo1VmIb",
        "outputId": "645d78d6-5e63-4ee1-b843-b89ee79255e4"
      },
      "outputs": [
        {
          "data": {
            "application/javascript": [
              "google.colab.output.setIframeHeight(0, true, {maxHeight: 5000})"
            ],
            "text/plain": [
              "<IPython.core.display.Javascript object>"
            ]
          },
          "metadata": {},
          "output_type": "display_data"
        },
        {
          "data": {
            "image/png": "[encoded data removed]",
            "text/plain": [
              "<Figure size 432x432 with 1 Axes>"
            ]
          },
          "metadata": {},
          "output_type": "display_data"
        }
      ],
      "source": [
        "X_train = np.eye(2**M)\n",
        "X_hat = encoder_NoAL.predict(X_train)  #obtain the encoded signal\n",
        "# print(X_hat)\n",
        "#Here noise_std corresponds to the SNR_range[end] (change it to your required value when required)\n",
        "Y = AWGN(X_hat, noise_std)   #transmit the encoded signal through the channel\n",
        "msg_hat = decoder_NoAL.predict(Y)  #decode the received signal\n",
        "msg_hat = msg_hat.argmax(axis = -1)\n",
        "# print(f\"Ture label : {x.argmax(axis=-1)} and predicted label : {msg_hat}\")\n",
        "# print(\"The energy constraint, \", tf.reduce_sum(tf.square(X_hat))/(N*k))\n",
        "plt.figure(figsize=(6, 6))\n",
        "for i in range(2**M):\n",
        "  plt.scatter(X_hat[i,:,0],X_hat[i,:,1]) # to plot the encoded symbols\n",
        "  # plt.scatter(Y[i,:,0],Y[i,:,1])  # to plot the noisy version of the encoded symbols\n",
        "plt.xlabel('real')\n",
        "plt.ylabel('imag')\n",
        "plt.title('Constellation points learnt by the model')\n",
        "plt.grid(True, which=\"both\")\n",
        "# plt.legend()\n",
        "plt.show()"
      ]
    },
    {
      "cell_type": "markdown",
      "metadata": {
        "id": "Vc3TmoHryGMM"
      },
      "source": [
        "## Model Free End to End Communication with Alternate training\n",
        "\n",
        "* Here, the receiver and the transmitter are trained alternatively in each epoch \n",
        "* The transmitter has a perturbation layer to account for the approximation of the loss function at the transmitter (refer to the paper for detailed explaination)"
      ]
    },
    {
      "cell_type": "markdown",
      "metadata": {
        "id": "j_wlPOSGy_U7"
      },
      "source": [
        "#### Helper functions"
      ]
    },
    {
      "cell_type": "code",
      "execution_count": null,
      "metadata": {
        "colab": {
          "base_uri": "https://localhost:8080/",
          "height": 17
        },
        "id": "DXSn6KtBkj1-",
        "outputId": "b7a906af-b52e-4e90-8b27-99f1406b36bd"
      },
      "outputs": [
        {
          "output_type": "display_data",
          "data": {
            "application/javascript": [
              "google.colab.output.setIframeHeight(0, true, {maxHeight: 5000})"
            ],
            "text/plain": [
              "<IPython.core.display.Javascript object>"
            ]
          },
          "metadata": {}
        }
      ],
      "source": [
        "perturbation_layer = tf.keras.layers.Lambda(lambda x: perturbation(x))\n",
        "channel_layer = tf.keras.layers.Lambda(lambda x: AWGN(x, noise_std))\n",
        "loss_object = tf.keras.losses.CategoricalCrossentropy()\n",
        "\n",
        "\n",
        "def decoder_loss(mb,yb,  validation = False): #mb : messages in batch, yb : labels in batch\n",
        "  x = encoder_AL(mb)\n",
        "  y = channel_layer(x, noise_std)\n",
        "  m_est = decoder_AL(y)\n",
        "  # if validation == True:\n",
        "  #   m_hat = tf.math.argmax(m_est, axis=1)\n",
        "  #   m_hat = m_hat.numpy()\n",
        "  #   # print(\"msg_hat : \", m_hat[0:100])\n",
        "  #   m_argmax = tf.math.argmax(mb, axis=1)\n",
        "  #   m_argmax = m_argmax.numpy()\n",
        "  #   # print(\"msg : \",  m_hat_argmax[0:100])\n",
        "\n",
        "  #   no_errors = (m_hat != m_argmax)\n",
        "  #   # print(no_errors[1:3,:])\n",
        "  #   no_errors = np.sum(no_errors,axis=1)\n",
        "  #   # no_errors[no_errors>0] = 1\n",
        "  #   # print(np.max(no_errors), 'max')\n",
        "  #   # no_errors = no_errors.astype(int).sum() #check this step tomorrow\n",
        "  #   print(no_errors/test_size)\n",
        "  return loss_object(yb,m_est), B_Ber(yb,m_est)\n",
        "\n",
        "def encoder_loss(mb, yb):\n",
        "  x = encoder_AL(mb)\n",
        "  x_pb = perturbation_layer(x) #pass the encoder output through the perturbation layer\n",
        "  y = channel_layer(x_pb, noise_std)\n",
        "  m_est = decoder_AL(y)\n",
        "\n",
        "\n",
        "  return loss_object(yb,m_est), B_Ber(yb,m_est) \n"
      ]
    },
    {
      "cell_type": "markdown",
      "metadata": {
        "id": "6Hl__B34S25P"
      },
      "source": [
        "#### ALTERNATE TRAINING"
      ]
    },
    {
      "cell_type": "code",
      "execution_count": null,
      "metadata": {
        "colab": {
          "base_uri": "https://localhost:8080/",
          "height": 1197
        },
        "id": "7iYnv-UkCONj",
        "outputId": "4aef71b3-2f8c-456f-afa4-4f5769e30247"
      },
      "outputs": [
        {
          "output_type": "display_data",
          "data": {
            "application/javascript": [
              "google.colab.output.setIframeHeight(0, true, {maxHeight: 5000})"
            ],
            "text/plain": [
              "<IPython.core.display.Javascript object>"
            ]
          },
          "metadata": {}
        },
        {
          "output_type": "stream",
          "name": "stdout",
          "text": [
            "Model: \"model\"\n",
            "_________________________________________________________________\n",
            " Layer (type)                Output Shape              Param #   \n",
            "=================================================================\n",
            " input_1 (InputLayer)        [(None, 256)]             0         \n",
            "                                                                 \n",
            " Tx1 (Dense)                 (None, 256)               65792     \n",
            "                                                                 \n",
            " Tx2 (Dense)                 (None, 8)                 2056      \n",
            "                                                                 \n",
            " reshape (Reshape)           (None, 4, 2)              0         \n",
            "                                                                 \n",
            " lambda_2 (Lambda)           (None, 4, 2)              0         \n",
            "                                                                 \n",
            "=================================================================\n",
            "Total params: 67,848\n",
            "Trainable params: 67,848\n",
            "Non-trainable params: 0\n",
            "_________________________________________________________________\n",
            "Model: \"model_1\"\n",
            "_________________________________________________________________\n",
            " Layer (type)                Output Shape              Param #   \n",
            "=================================================================\n",
            " input_2 (InputLayer)        [(None, 4, 2)]            0         \n",
            "                                                                 \n",
            " flatten (Flatten)           (None, 8)                 0         \n",
            "                                                                 \n",
            " Rx1 (Dense)                 (None, 256)               2304      \n",
            "                                                                 \n",
            " Rx2 (Dense)                 (None, 256)               65792     \n",
            "                                                                 \n",
            "=================================================================\n",
            "Total params: 68,096\n",
            "Trainable params: 68,096\n",
            "Non-trainable params: 0\n",
            "_________________________________________________________________\n",
            "Model: \"model_2\"\n",
            "_________________________________________________________________\n",
            " Layer (type)                Output Shape              Param #   \n",
            "=================================================================\n",
            " input_3 (InputLayer)        [(None, 256)]             0         \n",
            "                                                                 \n",
            " model (Functional)          (None, 4, 2)              67848     \n",
            "                                                                 \n",
            " lambda_4 (Lambda)           (None, 4, 2)              0         \n",
            "                                                                 \n",
            " model_1 (Functional)        (None, 256)               68096     \n",
            "                                                                 \n",
            "=================================================================\n",
            "Total params: 135,944\n",
            "Trainable params: 135,944\n",
            "Non-trainable params: 0\n",
            "_________________________________________________________________\n",
            "Epoch 0: Loss: 0.027, Training accuracy: 98.730%, Val_loss: 0.011, Validation accuracy: 99.880%\n",
            "Epoch 1: Loss: 0.010, Training accuracy: 99.961%, Val_loss: 0.002, Validation accuracy: 99.991%\n",
            "Epoch 2: Loss: 0.005, Training accuracy: 99.980%, Val_loss: 0.001, Validation accuracy: 99.996%\n",
            "Epoch 3: Loss: 0.006, Training accuracy: 100.000%, Val_loss: 0.001, Validation accuracy: 99.995%\n",
            "Epoch 4: Loss: 0.003, Training accuracy: 100.000%, Val_loss: 0.001, Validation accuracy: 99.996%\n",
            "Epoch 5: Loss: 0.003, Training accuracy: 100.000%, Val_loss: 0.001, Validation accuracy: 99.995%\n",
            "Epoch 6: Loss: 0.002, Training accuracy: 100.000%, Val_loss: 0.001, Validation accuracy: 99.996%\n",
            "Epoch 7: Loss: 0.003, Training accuracy: 100.000%, Val_loss: 0.000, Validation accuracy: 99.999%\n",
            "Epoch 8: Loss: 0.003, Training accuracy: 100.000%, Val_loss: 0.000, Validation accuracy: 99.998%\n",
            "Epoch 9: Loss: 0.002, Training accuracy: 100.000%, Val_loss: 0.000, Validation accuracy: 99.998%\n",
            "Epoch 10: Loss: 0.002, Training accuracy: 100.000%, Val_loss: 0.000, Validation accuracy: 99.996%\n",
            "Epoch 11: Loss: 0.002, Training accuracy: 100.000%, Val_loss: 0.000, Validation accuracy: 99.995%\n",
            "Epoch 12: Loss: 0.002, Training accuracy: 100.000%, Val_loss: 0.000, Validation accuracy: 99.999%\n",
            "Epoch 13: Loss: 0.003, Training accuracy: 100.000%, Val_loss: 0.000, Validation accuracy: 99.998%\n",
            "Epoch 14: Loss: 0.003, Training accuracy: 100.000%, Val_loss: 0.000, Validation accuracy: 99.998%\n"
          ]
        }
      ],
      "source": [
        "%matplotlib inline\n",
        "#----------------Parameters for the autoencoder-------------------------------------\n",
        "M = 8  #no. of bits in a message\n",
        "N = 4 #no. of symbols corresponding to the modulation scheme\n",
        "\n",
        "SNRdb_train = 10 #SNR in dB for which the model is trained \n",
        "SNRWt_train = 10**(SNRdb_train/10) #SNR in watt\n",
        "noise_std = np.sqrt(1/(2*SNRWt_train))  #std deviation of noise signal\n",
        "\n",
        "b_size = 20*(2**M) #batch size\n",
        "n_epoch = 15 #number of epochs\n",
        "lr = 0.01 #learning rate\n",
        "train_size = 2500*(2**M) #no. of training examples\n",
        "test_size = int(train_size*0.2) #no. of test examples\n",
        "\n",
        "#------------------------Autoencoder------------------------------------\n",
        " \n",
        "m_ip = keras.Input(shape =(2**M,))  #input to the autoencoder\n",
        "\n",
        "#two FC layers with 'relu' as the activation function\n",
        "m = tf.keras.layers.Dense(2**M,activation = 'elu', name = 'Tx1')(m_ip)\n",
        "# m = tf.keras.layers.Dense(M*M,activation = 'elu', name = 'Tx11')(m)\n",
        "m= tf.keras.layers.Dense(2*N,activation = None, name = 'Tx2')(m)\n",
        "\n",
        "#reshape X_hat such that it represents complex symbol\n",
        "X_reshape = tf.keras.layers.Reshape((-1,2))(m) #Tx symbol\n",
        "\n",
        "#we need to have a custom layer for normalization. Hence we use Lambda layer\n",
        "#to define our own function of the custom layer.\n",
        "X = tf.keras.layers.Lambda(lambda x: K.l2_normalize(x,axis=-1))(X_reshape) #this doesn't help in training the correct model\n",
        "\n",
        "#is the below line correct? I this yes! because on average the norm by the number of complex symbols should be one but not each sample norm\n",
        "#reduce_mean will divide the sum by 2*N (no. of terms in each encoded sample) hence we multiply it be 2  \n",
        "# X = tf.keras.layers.Lambda(lambda x: x/tf.sqrt(tf.reduce_mean(tf.square(x))*2))(X_reshape) \n",
        "# X = tf.keras.layers.BatchNormalization()(X)\n",
        "# X = tf.keras.layers.Lambda(lambda x : AvgEngy_Constraint(x))(X_reshape)  #give loss as 'nan'\n",
        "\n",
        "encoder_AL = keras.Model(m_ip,X)\n",
        "encoder_AL.summary()\n",
        "\n",
        "#add the noise to the transmitted symbol\n",
        "Y = tf.keras.layers.Lambda(lambda x: AWGN(x, noise_std))(X)\n",
        "X_enc = keras.Input(shape=(N,2,))\n",
        "Y = tf.keras.layers.Flatten()(X_enc)\n",
        "#two FC layes at receiver with the last layer having 'softmax' as the activation\n",
        "Y = tf.keras.layers.Dense(2**M, activation= 'relu',name = 'Rx1')(Y)\n",
        "deco_op = tf.keras.layers.Dense(2**M, activation= 'softmax', name = 'Rx2')(Y)\n",
        "\n",
        "decoder_AL = keras.Model(X_enc, deco_op)\n",
        "decoder_AL.summary()\n",
        "\n",
        "#create the autoencoder, encoder and decoder model for training and testing\n",
        "AE_ip = keras.Input(shape =(2**M,))  #input to the autoencoder\n",
        "encoded_msg = encoder_AL(AE_ip)\n",
        "rx_enmsg = tf.keras.layers.Lambda(lambda x: AWGN(x, noise_std))(encoded_msg) # channel_layer(encoded_msg) #received encoded message\n",
        "decoded_msg = decoder_AL(rx_enmsg)\n",
        "\n",
        "AE_AL = keras.Model(AE_ip,decoded_msg)\n",
        "AE_AL.summary()\n",
        "loss_fn = keras.losses.CategoricalCrossentropy()\n",
        "AE_AL.compile(optimizer=keras.optimizers.Adam(learning_rate=lr), loss = loss_fn,  metrics = [B_Ber])\n",
        "\n",
        "train_messages = generate_one_hot_vector(M, train_size)\n",
        "train_data = tf.data.Dataset.from_tensor_slices((train_messages,train_messages))\n",
        "train_data = train_data.shuffle(buffer_size = 256).batch(b_size)\n",
        "optimizer = tf.keras.optimizers.Adam(learning_rate=lr)\n",
        "\n",
        "#Tx and Rx training for AWGN channel\n",
        "#store the accuracy history\n",
        "BLER_hist_tx = [0]  \n",
        "BLER_hist_rx = [0]\n",
        "for i in range(n_epoch):\n",
        "  train_data_temp = train_data\n",
        "  for (x_batch,y_batch) in train_data:\n",
        "    #Rx trianing\n",
        "      with tf.GradientTape() as tape_rx:\n",
        "          loss_value, BLER_value_rx = decoder_loss(x_batch,y_batch, validation = False)\n",
        "      grads = tape_rx.gradient(loss_value, decoder_AL.trainable_variables)\n",
        "      optimizer.apply_gradients(zip(grads, decoder_AL.trainable_variables ))\n",
        "      BLER_hist_rx.append(BLER_value_rx)\n",
        "    #Tx training\n",
        "  for (x_batch,y_batch) in train_data_temp:\n",
        "      with tf.GradientTape() as tape_tx:\n",
        "          loss_value, BLER_value_tx = encoder_loss(x_batch,y_batch)\n",
        "      grads = tape_tx.gradient(loss_value, encoder_AL.trainable_variables)\n",
        "      optimizer.apply_gradients(zip(grads, encoder_AL.trainable_variables )) \n",
        "      BLER_hist_tx.append(BLER_value_tx)\n",
        "\n",
        "  test_messages = generate_one_hot_vector(M, test_size)\n",
        "  val_loss, val_BLER = decoder_loss(test_messages,test_messages, validation = True)\n",
        "  \n",
        "  print(\"Epoch {:d}: Loss: {:.3f}, Training accuracy: {:.3%}, Val_loss: {:.3f}, Validation accuracy: {:.3%}\".format(i, loss_value, 1 - BLER_value_rx, val_loss, 1 - val_BLER))\n",
        "\n",
        "# AE.fit(train_messages,train_messages,batch_size=b_size,epochs = n_epoch, validation_split= 0.1 , verbose = 1)\n",
        "\n",
        "# X_test = encoder.predict(test_messages)\n",
        "# m_hat = AE.predict(test_messages)\n",
        "# m_hat = m_hat.argmax(axis=1)\n",
        "# m_oh = tf.one_hot(m_hat,depth = 2**M)\n",
        "# m_oh = m_oh.numpy()\n",
        "# m = test_messages.argmax(axis=1)"
      ]
    },
    {
      "cell_type": "markdown",
      "metadata": {
        "id": "5UAKT8J4HL_3"
      },
      "source": [
        "#### Plot B_Ber v/s Iterations"
      ]
    },
    {
      "cell_type": "code",
      "execution_count": null,
      "metadata": {
        "colab": {
          "base_uri": "https://localhost:8080/",
          "height": 350
        },
        "id": "WKJ8yBOJHLSl",
        "outputId": "7e34ba97-5ef3-4adb-f398-37dc3f7da8b5"
      },
      "outputs": [
        {
          "data": {
            "application/javascript": [
              "google.colab.output.setIframeHeight(0, true, {maxHeight: 5000})"
            ],
            "text/plain": [
              "<IPython.core.display.Javascript object>"
            ]
          },
          "metadata": {},
          "output_type": "display_data"
        },
        {
          "data": {
            "image/png": "[encoded data removed]",
            "text/plain": [
              "<Figure size 360x360 with 1 Axes>"
            ]
          },
          "metadata": {},
          "output_type": "display_data"
        }
      ],
      "source": [
        "#plot the BLER v/s Iterations\n",
        "fig = plt.figure(figsize=(5, 5))\n",
        "plt.plot(BLER_hist_rx, 'r-', label ='Receiver BLER')\n",
        "plt.plot(BLER_hist_tx, 'b-', label ='Transmitter BLER')\n",
        "plt.gca().set_ylim(0, 1)\n",
        "plt.gca().set_xlim(0, 150)\n",
        "# plt.yscale('log')\n",
        "plt.xlabel('Iterations')\n",
        "plt.ylabel('BLER')\n",
        "plt.title('Only AWGN Channel')\n",
        "plt.grid(True, which=\"both\")\n",
        "plt.legend()\n",
        "plt.show()"
      ]
    },
    {
      "cell_type": "markdown",
      "metadata": {
        "id": "hD3yihvODBrY"
      },
      "source": [
        "#### Variation of BLER with respect to SNR for Alternate Training"
      ]
    },
    {
      "cell_type": "code",
      "execution_count": null,
      "metadata": {
        "colab": {
          "base_uri": "https://localhost:8080/",
          "height": 364
        },
        "id": "szqh6TIg0ms7",
        "outputId": "487a7702-edb0-4b07-f793-e1ae69ce3c8c"
      },
      "outputs": [
        {
          "data": {
            "application/javascript": [
              "google.colab.output.setIframeHeight(0, true, {maxHeight: 5000})"
            ],
            "text/plain": [
              "<IPython.core.display.Javascript object>"
            ]
          },
          "metadata": {},
          "output_type": "display_data"
        },
        {
          "data": {
            "application/javascript": [
              "google.colab.output.setIframeHeight(0, true, {maxHeight: 5000})"
            ],
            "text/plain": [
              "<IPython.core.display.Javascript object>"
            ]
          },
          "metadata": {},
          "output_type": "display_data"
        },
        {
          "data": {
            "application/javascript": [
              "google.colab.output.setIframeHeight(0, true, {maxHeight: 5000})"
            ],
            "text/plain": [
              "<IPython.core.display.Javascript object>"
            ]
          },
          "metadata": {},
          "output_type": "display_data"
        },
        {
          "data": {
            "application/javascript": [
              "google.colab.output.setIframeHeight(0, true, {maxHeight: 5000})"
            ],
            "text/plain": [
              "<IPython.core.display.Javascript object>"
            ]
          },
          "metadata": {},
          "output_type": "display_data"
        },
        {
          "name": "stdout",
          "output_type": "stream",
          "text": [
            " SNR : -2.20, BLER : 0.686605\n",
            " SNR : -1.41, BLER : 0.618282\n",
            " SNR : -0.62, BLER : 0.542339\n",
            " SNR : 0.17, BLER : 0.459470\n",
            " SNR : 0.96, BLER : 0.373887\n",
            " SNR : 1.75, BLER : 0.288835\n",
            " SNR : 2.54, BLER : 0.212082\n",
            " SNR : 3.33, BLER : 0.146297\n",
            " SNR : 4.12, BLER : 0.094446\n",
            " SNR : 4.91, BLER : 0.057018\n",
            " SNR : 5.69, BLER : 0.032095\n",
            " SNR : 6.48, BLER : 0.016685\n",
            " SNR : 7.27, BLER : 0.008113\n",
            " SNR : 8.06, BLER : 0.003652\n",
            " SNR : 8.85, BLER : 0.001585\n",
            " SNR : 9.64, BLER : 0.000669\n",
            " SNR : 10.43, BLER : 0.000268\n",
            " SNR : 11.22, BLER : 0.000127\n",
            " SNR : 12.01, BLER : 0.000052\n",
            " SNR : 12.80, BLER : 0.000015\n"
          ]
        }
      ],
      "source": [
        "# wrap this as a function so can be used for different models\n",
        "\n",
        "test_size = 1e6\n",
        "#--------------------Plot the BLER v/s SNR plot--------------------------------\n",
        "SNR_range = list(np.linspace(-2.2,12.8,20))\n",
        "# BER = [None] * len(SNR_range)\n",
        "BLER = [None] * len(SNR_range)\n",
        "\n",
        "print(\"Variation of BLER with respect to the SNR:\")\n",
        "for n in range(0, len(SNR_range)):\n",
        "    SNR =10 ** (SNR_range[n]/10)\n",
        "    noise_std = np.sqrt(1/(2*SNR))  #std deviation of noise signal\n",
        "    \n",
        "    test_messages = generate_one_hot_vector(M, test_size)  #generate the test dataset\n",
        "    no_errors = 0\n",
        "    X_hat = encoder_AL.predict(test_messages)  #obtain the encoded signal\n",
        "    Y = AWGN(X_hat, noise_std)   #transmit the encoded signal through the channel\n",
        "    msg_hat = decoder_AL.predict(Y)  #decode the received signal\n",
        "    msg_hat = msg_hat.argmax(axis = -1)\n",
        "\n",
        "    msg_true = test_messages.argmax(axis = -1)\n",
        "    no_errors = (msg_hat != msg_true)\n",
        "    no_errors = np.sum(no_errors)\n",
        "    \n",
        "    # m_hat_oh = tf.one_hot(m_hat_oh,depth = 2**M)\n",
        "    # m_hat_oh = m_hat_oh.numpy()\n",
        "    # no_errors = (m_hat_oh != test_messages)\n",
        "    # # print(no_errors[1:3,:])\n",
        "    # no_errors = np.sum(no_errors,axis=1)\n",
        "    # no_errors[no_errors>0] = 1\n",
        "    # # print(np.max(no_errors), 'max')\n",
        "    # no_errors = no_errors.astype(int).sum() #check this step tomorrow\n",
        "    # # print(no_errors)\n",
        "    BLER[n] = no_errors/test_size\n",
        "    print(\" SNR : {:.2f}, BLER : {:.6f}\".format(SNR_range[n],BLER[n]))\n",
        "    # print('SNR:', SNR_range[n], 'BLER', BLER[n])\n"
      ]
    },
    {
      "cell_type": "markdown",
      "metadata": {
        "id": "At_WfAwtDujV"
      },
      "source": [
        "#### Plot the variation of BLER w.r.t SNR"
      ]
    },
    {
      "cell_type": "code",
      "execution_count": null,
      "metadata": {
        "colab": {
          "base_uri": "https://localhost:8080/",
          "height": 350
        },
        "id": "iqYE3de4vEFd",
        "outputId": "4c2fd983-f9ca-4f77-dc52-313de1c71f2a"
      },
      "outputs": [
        {
          "data": {
            "application/javascript": [
              "google.colab.output.setIframeHeight(0, true, {maxHeight: 5000})"
            ],
            "text/plain": [
              "<IPython.core.display.Javascript object>"
            ]
          },
          "metadata": {},
          "output_type": "display_data"
        },
        {
          "data": {
            "application/javascript": [
              "google.colab.output.setIframeHeight(0, true, {maxHeight: 5000})"
            ],
            "text/plain": [
              "<IPython.core.display.Javascript object>"
            ]
          },
          "metadata": {},
          "output_type": "display_data"
        },
        {
          "data": {
            "application/javascript": [
              "google.colab.output.setIframeHeight(0, true, {maxHeight: 5000})"
            ],
            "text/plain": [
              "<IPython.core.display.Javascript object>"
            ]
          },
          "metadata": {},
          "output_type": "display_data"
        },
        {
          "data": {
            "application/javascript": [
              "google.colab.output.setIframeHeight(0, true, {maxHeight: 5000})"
            ],
            "text/plain": [
              "<IPython.core.display.Javascript object>"
            ]
          },
          "metadata": {},
          "output_type": "display_data"
        },
        {
          "data": {
            "image/png": "[encoded data removed]",
            "text/plain": [
              "<Figure size 576x360 with 1 Axes>"
            ]
          },
          "metadata": {},
          "output_type": "display_data"
        }
      ],
      "source": [
        "#plot the BLER v/s SNR\n",
        "fig = plt.figure(figsize=(8, 5))\n",
        "plt.semilogy(SNR_range, BLER, 'ro-', label ='Alternate Learning')\n",
        "plt.gca().set_ylim(1e-6, 1)\n",
        "plt.gca().set_xlim(-4, 14)\n",
        "plt.yscale('log')\n",
        "plt.xlabel('SNR(dB)')\n",
        "plt.ylabel('BLER')\n",
        "plt.title('Only AWGN Channel')\n",
        "plt.grid(True, which=\"both\")\n",
        "plt.legend()\n",
        "plt.show()\n",
        "\n",
        "BLER_AL = BLER  #store the BLER for different SNR's (useful for the future plots!)\n"
      ]
    },
    {
      "cell_type": "markdown",
      "metadata": {
        "id": "8gBfTcfVD0ZR"
      },
      "source": [
        "#### BLER v/s SNR for both Alternate and No-Alternate Training"
      ]
    },
    {
      "cell_type": "code",
      "execution_count": null,
      "metadata": {
        "id": "wiN76kUW3p6M"
      },
      "outputs": [],
      "source": [
        "#plot the BLER v/s SNR\n",
        "fig = plt.figure(figsize=(8, 5))\n",
        "plt.semilogy(SNR_range, BLER_NoAL, 'bo-', label ='No Alternate Learning')\n",
        "plt.semilogy(SNR_range, BLER_AL, 'ro-', label ='Alternate Learning')\n",
        "plt.gca().set_ylim(1e-5, 1)\n",
        "plt.gca().set_xlim(-10, 25)\n",
        "plt.yscale('log')\n",
        "plt.xlabel('SNR(dB)')\n",
        "plt.ylabel('BLER')\n",
        "plt.title('Only AWGN Channel')\n",
        "plt.grid(True, which=\"both\")\n",
        "plt.legend()\n",
        "plt.show()\n",
        "\n",
        "# BLER_AL = BLER  #store the BLER for different SNR's (useful for the future plots!)\n"
      ]
    },
    {
      "cell_type": "markdown",
      "metadata": {
        "id": "K9Xgb-suG5nU"
      },
      "source": [
        "#### Plot the learned constellation points for all the different inputs"
      ]
    },
    {
      "cell_type": "code",
      "execution_count": null,
      "metadata": {
        "colab": {
          "base_uri": "https://localhost:8080/",
          "height": 513
        },
        "id": "7APP-4Cia9RK",
        "outputId": "5e476a97-09a1-4ded-d586-570708da0870"
      },
      "outputs": [
        {
          "data": {
            "application/javascript": [
              "google.colab.output.setIframeHeight(0, true, {maxHeight: 5000})"
            ],
            "text/plain": [
              "<IPython.core.display.Javascript object>"
            ]
          },
          "metadata": {},
          "output_type": "display_data"
        },
        {
          "data": {
            "image/png": "[encoded data removed]",
            "text/plain": [
              "<Figure size 576x576 with 1 Axes>"
            ]
          },
          "metadata": {},
          "output_type": "display_data"
        }
      ],
      "source": [
        "X_train = np.eye(2**M)\n",
        "# print(x.shape)\n",
        "X_hat = encoder_AL.predict(X_train)  #obtain the encoded signal\n",
        "Y = AWGN(X_hat, noise_std)   #transmit the encoded signal through the channel\n",
        "msg_hat = decoder_AL.predict(Y)  #decode the received signal\n",
        "msg_hat = msg_hat.argmax(axis = -1)\n",
        "# print(f\"Ture label : {x.argmax(axis=-1)} and predicted label : {msg_hat}\")\n",
        "# print(\"The energy constraint, \", tf.reduce_sum(tf.square(X_hat))/(N*k))\n",
        "plt.figure(figsize=(8, 8))\n",
        "for i in range(2**M):\n",
        "  plt.scatter(X_hat[i,:,0],X_hat[i,:,1])\n",
        "plt.xlabel('real')\n",
        "plt.ylabel('imag')\n",
        "plt.title('Constellation points learnt by the model')\n",
        "plt.grid(True, which=\"both\")\n",
        "# plt.legend()\n",
        "plt.show()"
      ]
    },
    {
      "cell_type": "markdown",
      "metadata": {
        "id": "DvR6PJC7vdJ8"
      },
      "source": [
        "## MNIST Image reconstruction over AWGN Channel \n",
        "* The reconstruction quality metric used is called as \"**Peak-SNR**\" which is the inverse of \"**Mean Squared Error**\".\n",
        "* N = 10 (channel uses), Batch_size = 128\n",
        "* SNR during training = 10dB"
      ]
    },
    {
      "cell_type": "markdown",
      "metadata": {
        "id": "gIvbn0ajwUfT"
      },
      "source": [
        "#### Model Aware Training"
      ]
    },
    {
      "cell_type": "code",
      "execution_count": null,
      "metadata": {
        "id": "YEgwAdQhv6-w"
      },
      "outputs": [],
      "source": [
        "%matplotlib inline\n",
        "#----------------Parameters for the autoencoder-------------------------------------\n",
        "N = 10 #no. of symbols corresponding to the modulation scheme\n",
        "\n",
        "SNRdb_train = 10 #SNR in dB for which the model is trained \n",
        "SNRWt_train = 10**(SNRdb_train/10) #SNR in watt\n",
        "noise_std = np.sqrt(1/(2*SNRWt_train))  #std deviation of noise signal\n",
        "\n",
        "b_size = 256 #batch size\n",
        "n_epoch = 2 #number of epochs\n",
        "lr = 0.001 #learning rate\n",
        "\n",
        "#------------------Training Data--------------------------------------------------\n",
        "from tensorflow.keras import datasets, layers, models\n",
        "import matplotlib.pyplot as plt\n",
        "import ssl\n",
        "ssl._create_default_https_context = ssl._create_unverified_context\n",
        "\n",
        "(train_images, train_labels), (test_images, test_labels) = datasets.mnist.load_data()\n",
        "\n",
        "#No. of train and test examples\n",
        "print(train_images.shape)\n",
        "\n",
        "#Normalise the pixel values\n",
        "train_images = train_images/255\n",
        "test_images = test_images/255\n",
        "# train_size = 2000 #no. of training examples\n",
        "# test_size = int(train_size*0.1) #no. of test examples\n",
        "\n",
        "\n",
        "#---------------------------Encoder---------------------------------------\n",
        "m_ip = keras.Input(shape =(28,28,1))  #input to the autoencoder\n",
        "\n",
        "#two FC layers with 'elu' and 'relu' as the activation functions respectively.\n",
        "m = tf.keras.layers.Conv2D(32, (3,3), activation = 'relu', strides = (1,1))(m_ip)\n",
        "m= tf.keras.layers.Conv2D(64, (3,3), activation = 'relu', strides= (2,2))(m)\n",
        "m= tf.keras.layers.Conv2D(64, (3,3), activation = 'relu', strides= (2,2))(m)\n",
        "m = tf.keras.layers.Flatten()(m)\n",
        "m = tf.keras.layers.Dense(2*N, activation = None)(m)\n",
        "\n",
        "#reshape X_hat such that it represents complex symbol\n",
        "X_reshape = tf.keras.layers.Reshape((-1,2))(m) #Tx symbol\n",
        "\n",
        "#we need to have a custom layer for normalization. Hence we use Lambda layer\n",
        "#to define our own function of the custom layer.\n",
        "# X = tf.keras.layers.Lambda(lambda x: K.l2_normalize(x,axis=-1))(X_reshape)  #using this is giving very low accuracy\n",
        "X = tf.keras.layers.Lambda(lambda x: x/tf.sqrt(tf.reduce_mean(tf.square(x))*2)) (X_reshape)  #is this correct\n",
        "\n",
        "encoder = keras.Model(m_ip,X)\n",
        "encoder.summary()\n",
        " \n",
        "#--------------------------AWGN Channel---------------------------------------------\n",
        "\n",
        "#add the noise to the transmitted symbol\n",
        "# Y = tf.keras.layers.Lambda(lambda x: RBF(x))(X)\n",
        "\n",
        "#-----------------------------------Decoder------------------------------------------\n",
        "\n",
        "X_enc = keras.Input(shape=(N,2))\n",
        "Y = tf.keras.layers.Flatten()(X_enc)  #flatten the received input \n",
        "\n",
        "#two FC layes at receiver with the last layer having 'softmax' as the activation\n",
        "Y = tf.keras.layers.Dense(3136, activation= 'relu',name = 'Rx1')(Y)\n",
        "Y = tf.reshape(Y, shape = (-1,7,7,64)) #find a justification for reshaping in this manner\n",
        "Y = tf.keras.layers.Conv2DTranspose(64, (3,3), activation = 'relu', strides = (2,2), padding = 'same')(Y)\n",
        "Y = tf.keras.layers.Conv2DTranspose(32, (3,3), activation = 'relu', strides = (2,2), padding = 'same')(Y)\n",
        "deco_op = tf.keras.layers.Conv2DTranspose(1, (3,3), activation = 'sigmoid', strides = (1,1), padding = 'same')(Y)\n",
        "\n",
        "decoder = keras.Model(X_enc, deco_op)\n",
        "decoder.summary()\n",
        "\n",
        "#------------------------Autoencoder ------------------------------------\n",
        "\n",
        "#create the autoencoder, encoder and decoder model for training and testing\n",
        "AE_ip = keras.Input(shape =(28,28))  #input to the autoencoder\n",
        "encoded_msg = encoder(AE_ip)\n",
        "rx_enmsg = tf.keras.layers.Lambda(lambda x: AWGN(x, noise_std))(encoded_msg) #received encoded message\n",
        "decoded_msg = decoder(rx_enmsg)\n",
        "\n",
        "AE = keras.Model(AE_ip,decoded_msg)\n",
        "AE.summary()\n",
        "loss_fn = keras.losses.MeanSquaredError()  #Cross entropy loss as specified in the paper\n",
        "AE.compile(optimizer=keras.optimizers.Adam(learning_rate=lr), loss = loss_fn,  metrics = 'acc')\n",
        "\n",
        "#------------------Genertate the dataset for training----------------------------------------\n",
        "# train_messages = generate_one_hot_vector(M, train_size)\n",
        "# train_data = tf.data.Dataset.from_tensor_slices((train_messages,train_messages))\n",
        "# train_data = train_data.shuffle(buffer_size = 1024).batch(b_size)\n",
        "\n",
        "#train the autoencoder model\n",
        "AE.fit(train_images, train_images, batch_size=b_size,epochs = n_epoch, validation_split= 0.1 , verbose = 1)"
      ]
    },
    {
      "cell_type": "code",
      "execution_count": null,
      "metadata": {
        "id": "mcZdvWxrB9p6"
      },
      "outputs": [],
      "source": [
        "# wrap this as a function so can be used for different models\n",
        "\n",
        "# test_size = 5000\n",
        "fig = plt.figure(figsize=(20, 100))\n",
        "N_plt = 17\n",
        "#--------------------Plot the BLER v/s SNR plot--------------------------------\n",
        "SNR_range = list(np.linspace(-30,50,N_plt))\n",
        "# BER = [None] * len(SNR_range)\n",
        "PSNR_dB = [None] * len(SNR_range)\n",
        "PSNR_dB = np.array(PSNR_dB)\n",
        "for n in range(0, len(SNR_range)):\n",
        "    SNR =10 ** (SNR_range[n]/10)\n",
        "    noise_std = np.sqrt(1/(2*SNR))  #std deviation of noise signal\n",
        "    \n",
        "    # test_messages = generate_one_hot_vector(M, test_size)  #generate the test dataset\n",
        "    no_errors = 0\n",
        "    X_hat = encoder.predict(test_images)  #obtain the encoded signal\n",
        "    Y = AWGN(X_hat, noise_std)   #transmit the encoded signal through the channel\n",
        "    img_hat = decoder.predict(Y)  #decode the received signal\n",
        "    img_hat = tf.squeeze(img_hat)\n",
        "    PSNR = tf.keras.metrics.mean_squared_error(test_images, img_hat )\n",
        "    PSNR = 1/tf.reduce_mean(PSNR)\n",
        "    # print(PSNR.shape)\n",
        "    # msg_true = test_messages.argmax(axis = -1)\n",
        "    # no_errors = (msg_hat != msg_true)\n",
        "    # no_errors = np.sum(no_errors)\n",
        "    \n",
        "    # m_hat_oh = tf.one_hot(m_hat_oh,depth = 2**M)\n",
        "    # m_hat_oh = m_hat_oh.numpy()\n",
        "    # no_errors = (m_hat_oh != test_messages)\n",
        "    # # print(no_errors[1:3,:])\n",
        "    # no_errors = np.sum(no_errors,axis=1)\n",
        "    # no_errors[no_errors>0] = 1\n",
        "    # # print(np.max(no_errors), 'max')\n",
        "    # no_errors = no_errors.astype(int).sum() #check this step tomorrow\n",
        "    # # print(no_errors)\n",
        "    PSNRdB = 10*np.log10(PSNR)\n",
        "    PSNR_dB[n] = PSNRdB\n",
        "    # print(PSNRdB)\n",
        "    fig.add_subplot(N_plt,2,2*n+1)\n",
        "    train_imag1=test_images[1][:,:]\n",
        "    train_imag1=np.array(train_imag1)\n",
        "    # train_imag1=train_imag1.reshape(int(np.sqrt(len(train_imag1))),int(np.sqrt(len(train_imag1))))\n",
        "    plt.imshow(train_imag1, cmap='gray')\n",
        "    fig.add_subplot(N_plt,2,2*n+2)\n",
        "    train_imag1=img_hat[1][:,:]\n",
        "    # print(train_imag1.shape)\n",
        "    train_imag1=np.array(train_imag1)\n",
        "    # train_imag1=train_imag1.reshape(int(np.sqrt(len(train_imag1))),int(np.sqrt(len(train_imag1))))\n",
        "    plt.imshow(train_imag1, cmap='gray')\n",
        "    plt.axis('off')\n",
        "    print(\"SNR : %.2f\" %SNR_range[n], \"PSNR %.6f\" %PSNRdB)\n",
        "    # print('SNR:', SNR_range[n], 'BLER', BLER[n])\n",
        "\n",
        "# #plot the BLER v/s SNR\n",
        "# fig = plt.figure(figsize=(8, 5))\n",
        "# plt.plot(SNR_range, PSNR_dB, 'bo-', label ='No Alternate Learning')\n",
        "# # plt.semilogy(SNR_range, BLER_AL, 'ro-', label ='Alternate Learning')\n",
        "# plt.gca().set_ylim(0, 50)\n",
        "# plt.gca().set_xlim(-5, 25)\n",
        "# plt.yscale('log')\n",
        "# plt.xlabel('SNR(dB)')\n",
        "# plt.ylabel('PSNR')\n",
        "# plt.title('Only AWGN Channel')\n",
        "# plt.grid(True, which=\"both\")\n",
        "# plt.legend()\n",
        "# plt.show()\n",
        "\n",
        "# PSNR_NoAL = PSNR_dB  #store the BLER for different SNR's (useful for the future plots!)\n"
      ]
    },
    {
      "cell_type": "code",
      "execution_count": null,
      "metadata": {
        "id": "1eubBRJsbVi2"
      },
      "outputs": [],
      "source": [
        "#plot the BLER v/s SNR\n",
        "fig = plt.figure(figsize=(8, 5))\n",
        "plt.plot(SNR_range, PSNR_dB, 'bo-', label ='No Alternate Learning')\n",
        "# plt.semilogy(SNR_range, BLER_AL, 'ro-', label ='Alternate Learning')\n",
        "plt.gca().set_ylim(0, 50)\n",
        "plt.gca().set_xlim(-30, 50)\n",
        "# plt.yscale('log')\n",
        "plt.xlabel('SNR(dB)')\n",
        "plt.ylabel('PSNR')\n",
        "plt.title('Only AWGN Channel')\n",
        "plt.grid(True, which=\"both\")\n",
        "plt.legend()\n",
        "plt.show()\n",
        "\n",
        "PSNR_NoAL = PSNR_dB  #store the BLER for different SNR's (useful for the future plots!)\n"
      ]
    },
    {
      "cell_type": "code",
      "execution_count": null,
      "metadata": {
        "id": "bZB7JuWVEH_v"
      },
      "outputs": [],
      "source": [
        "K=10\n",
        "fig = plt.figure(figsize=(20, 10))\n",
        "\n",
        "for i in range(np.max(K)):\n",
        "  plt.subplot(2,10,i+1)\n",
        "  train_imag1=img_hat[i][:,:]\n",
        "  # print(train_imag1.shape)\n",
        "  train_imag1=np.array(train_imag1)\n",
        "  # train_imag1=train_imag1.reshape(int(np.sqrt(len(train_imag1))),int(np.sqrt(len(train_imag1))))\n",
        "  plt.imshow(train_imag1)\n",
        "  plt.axis('off')\n",
        "  # plt.title(\"Class \"+str(i))\n",
        "\n",
        "for i in range(np.max(K)):\n",
        "  plt.subplot(2,10,i+11)\n",
        "  train_imag1=test_images[i][:,:]\n",
        "  train_imag1=np.array(train_imag1)\n",
        "  # train_imag1=train_imag1.reshape(int(np.sqrt(len(train_imag1))),int(np.sqrt(len(train_imag1))))\n",
        "  plt.imshow(train_imag1)\n",
        "  plt.axis('off')\n",
        "  # plt.title(\"Class \"+str(i))"
      ]
    },
    {
      "cell_type": "markdown",
      "metadata": {
        "id": "oVelWQnhwz1Q"
      },
      "source": [
        "### Auto-Encoder Model for Rayleigh Block Fading\n",
        "* For both model-aware and model-free learning two methods were followed:\n",
        " \n",
        "  * Rx with channel-estimation network followed by equalization and decoding. N =5 \n",
        "  * N = 4 and pilot symbol was used to estimate the channel and rx symbols were equalized.\n",
        "    \n",
        "\n"
      ]
    },
    {
      "cell_type": "markdown",
      "metadata": {
        "id": "lCYeo8ityURE"
      },
      "source": [
        "#### Model aware Equalized with N = 5 "
      ]
    },
    {
      "cell_type": "code",
      "execution_count": null,
      "metadata": {
        "id": "w7iEaj-wwzcP"
      },
      "outputs": [],
      "source": [
        ""
      ]
    }
  ],
  "metadata": {
    "colab": {
      "collapsed_sections": [],
      "name": "Model Free E2E CS.ipynb",
      "provenance": []
    },
    "kernelspec": {
      "display_name": "Python 3",
      "name": "python3"
    },
    "language_info": {
      "name": "python"
    }
  },
  "nbformat": 4,
  "nbformat_minor": 0
}